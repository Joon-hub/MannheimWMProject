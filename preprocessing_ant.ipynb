{
 "cells": [
  {
   "cell_type": "markdown",
   "metadata": {
    "toc": true
   },
   "source": [
    "<h1>Table of Contents<span class=\"tocSkip\"></span></h1>\n",
    "<div class=\"toc\"><ul class=\"toc-item\"><li><span><a href=\"#Vader\" data-toc-modified-id=\"Vader-1\"><span class=\"toc-item-num\">1&nbsp;&nbsp;</span>Vader</a></span></li></ul></div>"
   ]
  },
  {
   "cell_type": "markdown",
   "metadata": {},
   "source": [
    "# Libraries"
   ]
  },
  {
   "cell_type": "code",
   "execution_count": 4,
   "metadata": {
    "ExecuteTime": {
     "end_time": "2024-04-22T15:38:12.681962Z",
     "start_time": "2024-04-22T15:38:12.678432Z"
    }
   },
   "outputs": [],
   "source": [
    "import pandas as pd"
   ]
  },
  {
   "cell_type": "code",
   "execution_count": null,
   "metadata": {},
   "outputs": [],
   "source": [
    "import functions"
   ]
  },
  {
   "cell_type": "markdown",
   "metadata": {},
   "source": [
    "# Data"
   ]
  },
  {
   "cell_type": "code",
   "execution_count": 5,
   "metadata": {
    "ExecuteTime": {
     "end_time": "2024-04-22T15:38:27.907362Z",
     "start_time": "2024-04-22T15:38:27.754944Z"
    }
   },
   "outputs": [],
   "source": [
    "data = pd.read_csv('/Users/antoniooliveira/Downloads/airlines_reviews.csv')"
   ]
  },
  {
   "cell_type": "code",
   "execution_count": 7,
   "metadata": {
    "ExecuteTime": {
     "end_time": "2024-04-22T15:38:35.392799Z",
     "start_time": "2024-04-22T15:38:35.379280Z"
    }
   },
   "outputs": [
    {
     "data": {
      "text/html": [
       "<div>\n",
       "<style scoped>\n",
       "    .dataframe tbody tr th:only-of-type {\n",
       "        vertical-align: middle;\n",
       "    }\n",
       "\n",
       "    .dataframe tbody tr th {\n",
       "        vertical-align: top;\n",
       "    }\n",
       "\n",
       "    .dataframe thead th {\n",
       "        text-align: right;\n",
       "    }\n",
       "</style>\n",
       "<table border=\"1\" class=\"dataframe\">\n",
       "  <thead>\n",
       "    <tr style=\"text-align: right;\">\n",
       "      <th></th>\n",
       "      <th>Title</th>\n",
       "      <th>Name</th>\n",
       "      <th>Review Date</th>\n",
       "      <th>Airline</th>\n",
       "      <th>Verified</th>\n",
       "      <th>Reviews</th>\n",
       "      <th>Type of Traveller</th>\n",
       "      <th>Month Flown</th>\n",
       "      <th>Route</th>\n",
       "      <th>Class</th>\n",
       "      <th>Seat Comfort</th>\n",
       "      <th>Staff Service</th>\n",
       "      <th>Food &amp; Beverages</th>\n",
       "      <th>Inflight Entertainment</th>\n",
       "      <th>Value For Money</th>\n",
       "      <th>Overall Rating</th>\n",
       "      <th>Recommended</th>\n",
       "    </tr>\n",
       "  </thead>\n",
       "  <tbody>\n",
       "    <tr>\n",
       "      <th>0</th>\n",
       "      <td>Flight was amazing</td>\n",
       "      <td>Alison Soetantyo</td>\n",
       "      <td>2024-03-01</td>\n",
       "      <td>Singapore Airlines</td>\n",
       "      <td>True</td>\n",
       "      <td>Flight was amazing. The crew onboard this fl...</td>\n",
       "      <td>Solo Leisure</td>\n",
       "      <td>December 2023</td>\n",
       "      <td>Jakarta to Singapore</td>\n",
       "      <td>Business Class</td>\n",
       "      <td>4</td>\n",
       "      <td>4</td>\n",
       "      <td>4</td>\n",
       "      <td>4</td>\n",
       "      <td>4</td>\n",
       "      <td>9</td>\n",
       "      <td>yes</td>\n",
       "    </tr>\n",
       "    <tr>\n",
       "      <th>1</th>\n",
       "      <td>seats on this aircraft are dreadful</td>\n",
       "      <td>Robert Watson</td>\n",
       "      <td>2024-02-21</td>\n",
       "      <td>Singapore Airlines</td>\n",
       "      <td>True</td>\n",
       "      <td>Booking an emergency exit seat still meant h...</td>\n",
       "      <td>Solo Leisure</td>\n",
       "      <td>February 2024</td>\n",
       "      <td>Phuket to Singapore</td>\n",
       "      <td>Economy Class</td>\n",
       "      <td>5</td>\n",
       "      <td>3</td>\n",
       "      <td>4</td>\n",
       "      <td>4</td>\n",
       "      <td>1</td>\n",
       "      <td>3</td>\n",
       "      <td>no</td>\n",
       "    </tr>\n",
       "    <tr>\n",
       "      <th>2</th>\n",
       "      <td>Food was plentiful and tasty</td>\n",
       "      <td>S Han</td>\n",
       "      <td>2024-02-20</td>\n",
       "      <td>Singapore Airlines</td>\n",
       "      <td>True</td>\n",
       "      <td>Excellent performance on all fronts. I would...</td>\n",
       "      <td>Family Leisure</td>\n",
       "      <td>February 2024</td>\n",
       "      <td>Siem Reap to Singapore</td>\n",
       "      <td>Economy Class</td>\n",
       "      <td>1</td>\n",
       "      <td>5</td>\n",
       "      <td>2</td>\n",
       "      <td>1</td>\n",
       "      <td>5</td>\n",
       "      <td>10</td>\n",
       "      <td>yes</td>\n",
       "    </tr>\n",
       "    <tr>\n",
       "      <th>3</th>\n",
       "      <td>“how much food was available</td>\n",
       "      <td>D Laynes</td>\n",
       "      <td>2024-02-19</td>\n",
       "      <td>Singapore Airlines</td>\n",
       "      <td>True</td>\n",
       "      <td>Pretty comfortable flight considering I was f...</td>\n",
       "      <td>Solo Leisure</td>\n",
       "      <td>February 2024</td>\n",
       "      <td>Singapore to London Heathrow</td>\n",
       "      <td>Economy Class</td>\n",
       "      <td>5</td>\n",
       "      <td>5</td>\n",
       "      <td>5</td>\n",
       "      <td>5</td>\n",
       "      <td>5</td>\n",
       "      <td>10</td>\n",
       "      <td>yes</td>\n",
       "    </tr>\n",
       "    <tr>\n",
       "      <th>4</th>\n",
       "      <td>“service was consistently good”</td>\n",
       "      <td>A Othman</td>\n",
       "      <td>2024-02-19</td>\n",
       "      <td>Singapore Airlines</td>\n",
       "      <td>True</td>\n",
       "      <td>The service was consistently good from start ...</td>\n",
       "      <td>Family Leisure</td>\n",
       "      <td>February 2024</td>\n",
       "      <td>Singapore to Phnom Penh</td>\n",
       "      <td>Economy Class</td>\n",
       "      <td>5</td>\n",
       "      <td>5</td>\n",
       "      <td>5</td>\n",
       "      <td>5</td>\n",
       "      <td>5</td>\n",
       "      <td>10</td>\n",
       "      <td>yes</td>\n",
       "    </tr>\n",
       "  </tbody>\n",
       "</table>\n",
       "</div>"
      ],
      "text/plain": [
       "                                  Title              Name Review Date  \\\n",
       "0                    Flight was amazing  Alison Soetantyo  2024-03-01   \n",
       "1  seats on this aircraft are dreadful      Robert Watson  2024-02-21   \n",
       "2          Food was plentiful and tasty             S Han  2024-02-20   \n",
       "3          “how much food was available          D Laynes  2024-02-19   \n",
       "4       “service was consistently good”         A Othman   2024-02-19   \n",
       "\n",
       "              Airline Verified  \\\n",
       "0  Singapore Airlines     True   \n",
       "1  Singapore Airlines     True   \n",
       "2  Singapore Airlines     True   \n",
       "3  Singapore Airlines     True   \n",
       "4  Singapore Airlines     True   \n",
       "\n",
       "                                             Reviews Type of Traveller  \\\n",
       "0    Flight was amazing. The crew onboard this fl...      Solo Leisure   \n",
       "1    Booking an emergency exit seat still meant h...      Solo Leisure   \n",
       "2    Excellent performance on all fronts. I would...    Family Leisure   \n",
       "3   Pretty comfortable flight considering I was f...      Solo Leisure   \n",
       "4   The service was consistently good from start ...    Family Leisure   \n",
       "\n",
       "     Month Flown                         Route           Class  Seat Comfort  \\\n",
       "0  December 2023          Jakarta to Singapore  Business Class             4   \n",
       "1  February 2024           Phuket to Singapore   Economy Class             5   \n",
       "2  February 2024        Siem Reap to Singapore   Economy Class             1   \n",
       "3  February 2024  Singapore to London Heathrow   Economy Class             5   \n",
       "4  February 2024       Singapore to Phnom Penh   Economy Class             5   \n",
       "\n",
       "   Staff Service  Food & Beverages  Inflight Entertainment  Value For Money  \\\n",
       "0              4                 4                       4                4   \n",
       "1              3                 4                       4                1   \n",
       "2              5                 2                       1                5   \n",
       "3              5                 5                       5                5   \n",
       "4              5                 5                       5                5   \n",
       "\n",
       "   Overall Rating Recommended  \n",
       "0               9         yes  \n",
       "1               3          no  \n",
       "2              10         yes  \n",
       "3              10         yes  \n",
       "4              10         yes  "
      ]
     },
     "execution_count": 7,
     "metadata": {},
     "output_type": "execute_result"
    }
   ],
   "source": [
    "data.head()"
   ]
  },
  {
   "cell_type": "code",
   "execution_count": 9,
   "metadata": {
    "ExecuteTime": {
     "end_time": "2024-04-22T15:38:41.116644Z",
     "start_time": "2024-04-22T15:38:41.104080Z"
    }
   },
   "outputs": [
    {
     "name": "stdout",
     "output_type": "stream",
     "text": [
      "<class 'pandas.core.frame.DataFrame'>\n",
      "RangeIndex: 8100 entries, 0 to 8099\n",
      "Data columns (total 17 columns):\n",
      " #   Column                  Non-Null Count  Dtype \n",
      "---  ------                  --------------  ----- \n",
      " 0   Title                   8100 non-null   object\n",
      " 1   Name                    8100 non-null   object\n",
      " 2   Review Date             8100 non-null   object\n",
      " 3   Airline                 8100 non-null   object\n",
      " 4   Verified                8100 non-null   object\n",
      " 5   Reviews                 8100 non-null   object\n",
      " 6   Type of Traveller       8100 non-null   object\n",
      " 7   Month Flown             8100 non-null   object\n",
      " 8   Route                   8100 non-null   object\n",
      " 9   Class                   8100 non-null   object\n",
      " 10  Seat Comfort            8100 non-null   int64 \n",
      " 11  Staff Service           8100 non-null   int64 \n",
      " 12  Food & Beverages        8100 non-null   int64 \n",
      " 13  Inflight Entertainment  8100 non-null   int64 \n",
      " 14  Value For Money         8100 non-null   int64 \n",
      " 15  Overall Rating          8100 non-null   int64 \n",
      " 16  Recommended             8100 non-null   object\n",
      "dtypes: int64(6), object(11)\n",
      "memory usage: 1.1+ MB\n"
     ]
    }
   ],
   "source": [
    "data.info()"
   ]
  },
  {
   "cell_type": "code",
   "execution_count": 29,
   "metadata": {
    "ExecuteTime": {
     "end_time": "2024-04-22T15:48:23.125123Z",
     "start_time": "2024-04-22T15:48:23.101655Z"
    }
   },
   "outputs": [
    {
     "data": {
      "text/html": [
       "<div>\n",
       "<style scoped>\n",
       "    .dataframe tbody tr th:only-of-type {\n",
       "        vertical-align: middle;\n",
       "    }\n",
       "\n",
       "    .dataframe tbody tr th {\n",
       "        vertical-align: top;\n",
       "    }\n",
       "\n",
       "    .dataframe thead th {\n",
       "        text-align: right;\n",
       "    }\n",
       "</style>\n",
       "<table border=\"1\" class=\"dataframe\">\n",
       "  <thead>\n",
       "    <tr style=\"text-align: right;\">\n",
       "      <th></th>\n",
       "      <th>count</th>\n",
       "      <th>mean</th>\n",
       "      <th>std</th>\n",
       "      <th>min</th>\n",
       "      <th>25%</th>\n",
       "      <th>50%</th>\n",
       "      <th>75%</th>\n",
       "      <th>max</th>\n",
       "    </tr>\n",
       "  </thead>\n",
       "  <tbody>\n",
       "    <tr>\n",
       "      <th>Seat Comfort</th>\n",
       "      <td>8100.0</td>\n",
       "      <td>3.414815</td>\n",
       "      <td>1.397183</td>\n",
       "      <td>1.0</td>\n",
       "      <td>2.0</td>\n",
       "      <td>4.0</td>\n",
       "      <td>5.0</td>\n",
       "      <td>5.0</td>\n",
       "    </tr>\n",
       "    <tr>\n",
       "      <th>Staff Service</th>\n",
       "      <td>8100.0</td>\n",
       "      <td>3.569877</td>\n",
       "      <td>1.527436</td>\n",
       "      <td>1.0</td>\n",
       "      <td>2.0</td>\n",
       "      <td>4.0</td>\n",
       "      <td>5.0</td>\n",
       "      <td>5.0</td>\n",
       "    </tr>\n",
       "    <tr>\n",
       "      <th>Food &amp; Beverages</th>\n",
       "      <td>8100.0</td>\n",
       "      <td>3.384074</td>\n",
       "      <td>1.455694</td>\n",
       "      <td>1.0</td>\n",
       "      <td>2.0</td>\n",
       "      <td>4.0</td>\n",
       "      <td>5.0</td>\n",
       "      <td>5.0</td>\n",
       "    </tr>\n",
       "    <tr>\n",
       "      <th>Inflight Entertainment</th>\n",
       "      <td>8100.0</td>\n",
       "      <td>3.636790</td>\n",
       "      <td>1.309564</td>\n",
       "      <td>0.0</td>\n",
       "      <td>3.0</td>\n",
       "      <td>4.0</td>\n",
       "      <td>5.0</td>\n",
       "      <td>5.0</td>\n",
       "    </tr>\n",
       "    <tr>\n",
       "      <th>Value For Money</th>\n",
       "      <td>8100.0</td>\n",
       "      <td>3.148642</td>\n",
       "      <td>1.589377</td>\n",
       "      <td>1.0</td>\n",
       "      <td>1.0</td>\n",
       "      <td>3.0</td>\n",
       "      <td>5.0</td>\n",
       "      <td>5.0</td>\n",
       "    </tr>\n",
       "    <tr>\n",
       "      <th>Overall Rating</th>\n",
       "      <td>8100.0</td>\n",
       "      <td>5.632469</td>\n",
       "      <td>3.523664</td>\n",
       "      <td>1.0</td>\n",
       "      <td>2.0</td>\n",
       "      <td>6.0</td>\n",
       "      <td>9.0</td>\n",
       "      <td>10.0</td>\n",
       "    </tr>\n",
       "  </tbody>\n",
       "</table>\n",
       "</div>"
      ],
      "text/plain": [
       "                         count      mean       std  min  25%  50%  75%   max\n",
       "Seat Comfort            8100.0  3.414815  1.397183  1.0  2.0  4.0  5.0   5.0\n",
       "Staff Service           8100.0  3.569877  1.527436  1.0  2.0  4.0  5.0   5.0\n",
       "Food & Beverages        8100.0  3.384074  1.455694  1.0  2.0  4.0  5.0   5.0\n",
       "Inflight Entertainment  8100.0  3.636790  1.309564  0.0  3.0  4.0  5.0   5.0\n",
       "Value For Money         8100.0  3.148642  1.589377  1.0  1.0  3.0  5.0   5.0\n",
       "Overall Rating          8100.0  5.632469  3.523664  1.0  2.0  6.0  9.0  10.0"
      ]
     },
     "execution_count": 29,
     "metadata": {},
     "output_type": "execute_result"
    }
   ],
   "source": [
    "data.describe().T"
   ]
  },
  {
   "cell_type": "markdown",
   "metadata": {},
   "source": [
    "# Exploratory Data Analysis"
   ]
  },
  {
   "cell_type": "markdown",
   "metadata": {},
   "source": [
    "Unique Values"
   ]
  },
  {
   "cell_type": "code",
   "execution_count": 23,
   "metadata": {
    "ExecuteTime": {
     "end_time": "2024-04-22T15:44:41.180592Z",
     "start_time": "2024-04-22T15:44:41.149924Z"
    },
    "collapsed": true
   },
   "outputs": [
    {
     "name": "stdout",
     "output_type": "stream",
     "text": [
      "Title\n",
      "Turkish Airlines customer review    11\n",
      "Qatar Airways customer review       11\n",
      "worst customer service               9\n",
      "a pleasant experience                9\n",
      "seats were comfortable               8\n",
      "                                    ..\n",
      "very comfortable experience          1\n",
      "not impressed by the performance     1\n",
      "ANA is simply the best               1\n",
      "bad communication                    1\n",
      "genuinely friendly staff             1\n",
      "Name: count, Length: 7614, dtype: int64 \n",
      "\n",
      "Name\n",
      "Michael Schade        44\n",
      "Anders Pedersen       40\n",
      "Michel Perrin         29\n",
      "Alwaleed Althani      27\n",
      "Elaine Loh            23\n",
      "                      ..\n",
      "G Deene                1\n",
      "G Hayes                1\n",
      "Jacob Chundamannil     1\n",
      "Ann Sebastian          1\n",
      "D Lanor                1\n",
      "Name: count, Length: 6583, dtype: int64 \n",
      "\n",
      "Review Date\n",
      "2017-12-18    12\n",
      "2018-10-17    11\n",
      "2019-10-16    11\n",
      "2018-09-18    11\n",
      "2019-09-22    11\n",
      "              ..\n",
      "2019-09-10     1\n",
      "2018-12-26     1\n",
      "2018-04-17     1\n",
      "2017-06-23     1\n",
      "2024-03-01     1\n",
      "Name: count, Length: 2549, dtype: int64 \n",
      "\n",
      "Airline\n",
      "Turkish Airlines          1685\n",
      "Qatar Airways             1624\n",
      "Emirates                  1350\n",
      "Singapore Airlines         972\n",
      "Air France                 798\n",
      "Cathay Pacific Airways     744\n",
      "EVA Air                    281\n",
      "All Nippon Airways         258\n",
      "Japan Airlines             201\n",
      "Korean Air                 187\n",
      "Name: count, dtype: int64 \n",
      "\n",
      "Verified\n",
      "True                                                                                                                                                                                                                                           6216\n",
      "False                                                                                                                                                                                                                                          1881\n",
      "*Unverified*                                                                                                                                                                                                                                      1\n",
      "NotVerified                                                                                                                                                                                                                                       1\n",
      "we do appreciate you bringing this matter to our attention. Please accept my apologies for not having met your expectations; I do hope that we can leave you and your family with a more positive impression on your future flights with us       1\n",
      "Name: count, dtype: int64 \n",
      "\n",
      "Reviews\n",
      " Unforgettable experience flying with Emirates from Singapore to Rome via Dubai. I was booked on flight EK433, with scheduled departure on Friday at 9.35am but was notified last minute via text message at 4.23am that I had been put on EK353 departing at 10.10am instead. To make things worse, that flight was delayed for another 1 hour 10 minutes. I didn’t know if I was traveling with Emirates or a budget airline that cancels flights on a whim. By the time I arrived in Dubai, my original 2 hour connection time had become less than 40 minutes. Ground staff in Dubai did not offer any form of assistance in making my connecting flight. I made it to the departure gate 5 minutes before closing time only to be told I had been offloaded from the plane. At no stage was I notified that I would be bumped from my connecting flight because of shorter than “minimum connection time” thanks to Emirates’ brilliant incompetence in punctuality. After some argument with the ground staff at the gate, I managed to get onto the flight with the supervisor granting me an act of grace, when it’s Emirates which had sinned. But his grace did not extend to my checked in baggage however, which will only arrive with the next flight. Arrangement to make delivery of my delayed baggage was made immediately after clearing immigration on arrival in Rome FCO airport Friday at 6.40pm, when I was assured my luggage would arrive following day. I even received an email saying my bag will arrive in Rome at about 12.40pm on Saturday. Little did I know I would be slapped in my face with Emirates’ commitment to punctuality again. When I haven’t received my bag at 5pm, I rang the baggage office, and was advised it had just cleared customs and would be delivered in the evening. 6 hours later I was still waiting, and followed up with another less than pleasant phone call. Upon which, the only solution they could offer is the contact number of the local baggage delivery agent. No, of course their gilded fingers can’t possibly dial the number to follow up on a customer’s delayed baggage. I finally received my bag on Sunday at 12.15am. Hooray for a change of clothes finally. No one from Emirates throughout this ordeal acknowledged their fault nor offered compensation for me to get a change of clothes and toiletries. Hello Tomorrow? More like Hello Never.    2\n",
      "  Flight was amazing. The crew onboard this flight were very welcoming, and gave a good atmosphere. The crew serving my aisle goes by the initial “G”. She was very kind & helpful. Gave my mom a bday cake for a late celebration even though it was just a 1hr 45min flight. Seat is well sanitized, legroom is spacious. IFE onboard has many variety of shows, music, etc. Bathroom always kept clean by crew at all times. & Food was delicious, overall this flight is a 9/10                                                                                                                                                                                                                                                                                                                                                                                                                                                                                                                                                                                                                                                                                                                                                                                                                                                                                                                                                                                                                                                                                                                                                                                                                                                                                                                                                                                                                                                                                                                                                                                                                                                                                                                                                                                                                                                                                                                                                        1\n",
      "  Istanbul to Singapore. Perhaps one of the worst airline amongst the Middle East airlines. Despite being flown in and out of the brand new Istanbul Airport, both flights were delayed and made worst when there was no announcement by the airline nor by the airport. Service was really bad, with air crew shouting across aisle and at passengers. Unpleasant experience. Poor attempt at food. Best thing served was the still water. nly good thing of the airline is that it didn't bring me to destination. And this will be my last flight with them. Period.                                                                                                                                                                                                                                                                                                                                                                                                                                                                                                                                                                                                                                                                                                                                                                                                                                                                                                                                                                                                                                                                                                                                                                                                                                                                                                                                                                                                                                                                                                                                                                                                                                                                                                                                                                                                                                                                    1\n",
      "  Moscow to Hurghada via Istanbul. The poorest ever customer service, 23rd Feb. 2019, I flew with my son from Moscow to Hurghada Egypt via Istanbul, the flights were delayed, which was not their fault due to snow, we arrived to hurghada 3 hours late, and our luggage were left behind in Istanbul. we stayed just under 24 hours in Hurghada then my son went back to Moscow without his luggage and I travelled to Cairo. Communications with Turkish Airline customer service worse than poor, the luggage. arrived three and half days later with one luggage was damaged. From March the time I reported it, the case still going, they refused to compensate me for the damaged luggage because I reported it after eight days, no compensation for what I needed for necessary need for three and half days of the 6 days the length of my trip because I didn't obtain receipts for what I purchased, I had to carry my son's case back to London where he visited me the following week and took it back. I will never ever fly Turkish Airlines again if they pay me. I spent the most 3.5 miserable days of my life worrying as I had medications in the lost cases, by the way I am 70 years old, and they had no sympathy whatsoever. I challenge them to respond to this review.  On my son's return to Moscow he also had another nightmare experience and had to pay for another airline to get back to Moscow and there was no compensation whatsoever (found out later they responded to him to visit their office in Moscow to get some kind of voucher to be offset against his next flight with their airline, why will he be forced to use their airline again?)) This review is mainly about how the customer service handled my issue,                                                                                                                                                                                                                                                                                                                                                                                                                                                                                                                                                                                                                                                                        1\n",
      "  Kathmandu to Bordeaux via Istanbul. Several problems: baggage with 3 days delay when returning from Nepal. No compensation. I had to pick up my luggage myself at the airport on a Sunday in the late afternoon. Flight from Kathmandu with more than 8 hours late (already 2 hours one way). The flight duration displayed on the outward and return journey is not the right one. It takes 2 hours more. I did not find the staff pleasant considering the late conditions. by buying the ticket, the return flight was to last 17h. In the end, it lasted 36 hours. The price of the ticket being more expensive than another company, the total duration and the rest make it better to avoid Turkish Airlines.  Plusieurs problèmes : bagages avec 3 jours de retard au retour du Népal. Pas de dédommagements. J'ai du aller chercher mes bagages moi même à l'aéroport un dimanche en fin d'après midi. Vol au départ de Kathmandou avec plus de 8 h de retard (déjà 2 h à l'aller). La durée de vol affichée à l'aller et au retour n'est pas la bonne. Il faut compter 2 heures de plus. Je n'ai pas trouvé que le personnel était agréable compte tenu des conditions de retard. en achetant le billet, le vol retour devait durer 17h. Au final, il a duré 36 h. Le prix du billet étant plus cher qu'une autre compagnie, la durée totale et le reste font qu'il vaut mieux éviter turkish Airlines                                                                                                                                                                                                                                                                                                                                                                                                                                                                                                                                                                                                                                                                                                                                                                                                                                                                                                                                                                                                                          1\n",
      "                                                                                                                                                                                                                                                                                                                                                                                                                                                                                                                                                                                                                                                                                                                                                                                                                                                                                                                                                                                                                                                                                                                                                                                                                                                                                                                                                                                                                                                                                                                                                                                                                                                                                                                                                                                                                                                                                                                                                                                                                                                                                                                                                                                                                                                                                                                                                                                                                                          ..\n",
      "  Ho Chi Minh to to Chicago via Tokyo Narita. The Flight from Ho Chi Minh to Narita in economy was reasonable for the cost. The range of movies on the PTV system was limited and the food was very tasty. Customer service from the FAs was very excellent. The Narita-Chicago Flight was better than Ho Chi Minh to Narita because the service was better and it was flown by a B777-300ER.                                                                                                                                                                                                                                                                                                                                                                                                                                                                                                                                                                                                                                                                                                                                                                                                                                                                                                                                                                                                                                                                                                                                                                                                                                                                                                                                                                                                                                                                                                                                                                                                                                                                                                                                                                                                                                                                                                                                                                                                                                              1\n",
      "  Tokyo to Bangkok in July. Wheelchair passenger have to wait for check-in more than 1 hour at Haneda airport. We had been waiting at Special Assistant line for longer than 30 Minutes, then the line not move because the ladies in front of my group have some problem. All staffs come to help her. So we move from Special Assistant to normal check-in line which is faster, wait another 15 minutes and we are the next queue. ANA staff came to us and put our group back to the Special Assistant queue again. Not good service. Total process for check-in is longer than 1 hour.                                                                                                                                                                                                                                                                                                                                                                                                                                                                                                                                                                                                                                                                                                                                                                                                                                                                                                                                                                                                                                                                                                                                                                                                                                                                                                                                                                                                                                                                                                                                                                                                                                                                                                                                                                                                                                                1\n",
      " Taipei to Narita on 8/30 had a serious delay and the way ANA handling it was a mess. First of all, the ANA crew did not know anything about the problem or they knew but they did not tell us, there was no communication between the airline company and customers. All we can do was keep waiting for another delay announcement. A lot of people need to transfer at NRT so the staff let them change the tickets first, that I can totally understand. However, as a business class passenger, I should have the priority to change my flight to other Star Alliance member such as EVA Air, but there was no line for that and after 3 hours waiting in line, one of the staff said the system was closed and my flight cannot be changed. They should just tell us immediately so people did not have to wait for hours. ANA did not arrange a hotel for us, I was flying from JFK to TPE then transfer to NRT, the time I arrived at TPE was 4 am, the time I left TPE was 11 pm, 19 hours of waiting, it was a nightmare. I can assure you I am the passenger who waited for the longest hours. In this case, ANA obvious did not know when the plane can be fixed, they should just arrange a hotel for passengers instead of kept postponing boarding time without explanation.  ANA paid 15,000 yen for communication is barely enough, the taxi from the airport to my hotel was around 10,000 yen, with the tips and tax there’s not much left. At Taipei, food vouchers were not enough, foods were expensive at the airport. 200-300 Taiwanese dollars can’t even get a regular lunch set or dinner set. To sum up, this trip was a nightmare because of this incident. The most disappointing things were the way ANA deal with it. I fly ANA quite often and I always have a good impression, but from this incident, I could not believe it is a 5-star airline.                                                                                                                                                                                                                                                                                                                                                                                                                                                                                                                                                        1\n",
      "  Perth to Fukuoka via Tokyo. I would like to convey my deepest gratitude to the ANA ground staff/ supervisors in the check in desk areas at Perth International Airport. Before I could check in, I realised that I had accidentally left my mobile phone inside the car that dropped me off and I had no way of contacting them to retrieve my phone. In my distress, I turned to the first airport staff I met and they happened to be the ANA check-in supervisors. I had asked them on what I should do, whether I should check in first or try to retrieve my phone. Instead of providing me a textbook answer or redirecting me to the airport information desk, she offered for me to use her own mobile phone to call my family. I was shocked and deeply grateful. I had to make multiple calls on multiple phone numbers. But she remained She even continued to help me call my family as I checked in. They were patient, calm, and immensely helpful. In the end, I was able to retrieve my mobile phone. I am so grateful for the superb customer service. This is true service, serving with their hearts. 110% recommend. Will definitely fly ANA again!                                                                                                                                                                                                                                                                                                                                                                                                                                                                                                                                                                                                                                                                                                                                                                                                                                                                                                                                                                                                                                                                                                                                                                                                                                                                  1\n",
      "  The 13 hour flight in Business class from Seoul to Toronto onboard Korean Air KE73 turned out to be a real pleasure. Overall, there was a good choice of food, drinks (including Canadian ice wine) and the service was provided by genuinely friendly staff. Definitely recommended.                                                                                                                                                                                                                                                                                                                                                                                                                                                                                                                                                                                                                                                                                                                                                                                                                                                                                                                                                                                                                                                                                                                                                                                                                                                                                                                                                                                                                                                                                                                                                                                                                                                                                                                                                                                                                                                                                                                                                                                                                                                                                                                                                    1\n",
      "Name: count, Length: 8099, dtype: int64 \n",
      "\n",
      "Type of Traveller\n",
      "Solo Leisure      3237\n",
      "Couple Leisure    1899\n",
      "Family Leisure    1551\n",
      "Business          1413\n",
      "Name: count, dtype: int64 \n",
      "\n",
      "Month Flown\n",
      "November 2017    150\n",
      "December 2019    142\n",
      "January 2019     138\n",
      "December 2017    136\n",
      "November 2019    135\n",
      "                ... \n",
      "March 2024         3\n",
      "May 2014           1\n",
      "March 2013         1\n",
      "April 2013         1\n",
      "May 2015           1\n",
      "Name: count, Length: 107, dtype: int64 \n",
      "\n",
      "Route\n",
      "Bangkok to Hong Kong                  24\n",
      "London to Singapore                   23\n",
      "Istanbul to London                    20\n",
      "Bangkok to Singapore                  20\n",
      "Hong Kong to Singapore                19\n",
      "                                      ..\n",
      "Amsterdam to Cebu via Dubai            1\n",
      "Ho Chi Minh to Frankfurt via Dubai     1\n",
      "Sydney to Moscow via Dubai             1\n",
      "Brisbane to Madrid via Dubai           1\n",
      "ICN to YYZ                             1\n",
      "Name: count, Length: 5566, dtype: int64 \n",
      "\n",
      "Class\n",
      "Economy Class      5504\n",
      "Business Class     2104\n",
      "Premium Economy     371\n",
      "First Class         121\n",
      "Name: count, dtype: int64 \n",
      "\n",
      "Seat Comfort\n",
      "5    2332\n",
      "4    2072\n",
      "3    1534\n",
      "1    1214\n",
      "2     948\n",
      "Name: count, dtype: int64 \n",
      "\n",
      "Staff Service\n",
      "5    3415\n",
      "1    1414\n",
      "4    1412\n",
      "3    1061\n",
      "2     798\n",
      "Name: count, dtype: int64 \n",
      "\n",
      "Food & Beverages\n",
      "5    2541\n",
      "4    1743\n",
      "3    1470\n",
      "1    1368\n",
      "2     978\n",
      "Name: count, dtype: int64 \n",
      "\n",
      "Inflight Entertainment\n",
      "5    2672\n",
      "4    2284\n",
      "3    1539\n",
      "1     863\n",
      "2     741\n",
      "0       1\n",
      "Name: count, dtype: int64 \n",
      "\n",
      "Value For Money\n",
      "5    2427\n",
      "1    2127\n",
      "4    1513\n",
      "3    1124\n",
      "2     909\n",
      "Name: count, dtype: int64 \n",
      "\n",
      "Overall Rating\n",
      "1     1808\n",
      "10    1610\n",
      "9     1054\n",
      "8      742\n",
      "2      692\n",
      "3      522\n",
      "7      509\n",
      "5      436\n",
      "4      381\n",
      "6      346\n",
      "Name: count, dtype: int64 \n",
      "\n",
      "Recommended\n",
      "yes    4287\n",
      "no     3813\n",
      "Name: count, dtype: int64 \n",
      "\n"
     ]
    }
   ],
   "source": [
    "for column in data.columns:\n",
    "    print(data[column].value_counts(), '\\n')\n"
   ]
  },
  {
   "cell_type": "markdown",
   "metadata": {
    "ExecuteTime": {
     "end_time": "2024-04-22T15:44:58.821997Z",
     "start_time": "2024-04-22T15:44:58.818310Z"
    }
   },
   "source": [
    "Missing Values"
   ]
  },
  {
   "cell_type": "code",
   "execution_count": 26,
   "metadata": {
    "ExecuteTime": {
     "end_time": "2024-04-22T15:45:12.499473Z",
     "start_time": "2024-04-22T15:45:12.489436Z"
    }
   },
   "outputs": [
    {
     "data": {
      "text/plain": [
       "Title                     0\n",
       "Name                      0\n",
       "Review Date               0\n",
       "Airline                   0\n",
       "Verified                  0\n",
       "Reviews                   0\n",
       "Type of Traveller         0\n",
       "Month Flown               0\n",
       "Route                     0\n",
       "Class                     0\n",
       "Seat Comfort              0\n",
       "Staff Service             0\n",
       "Food & Beverages          0\n",
       "Inflight Entertainment    0\n",
       "Value For Money           0\n",
       "Overall Rating            0\n",
       "Recommended               0\n",
       "dtype: int64"
      ]
     },
     "execution_count": 26,
     "metadata": {},
     "output_type": "execute_result"
    }
   ],
   "source": [
    "data.isnull().sum()"
   ]
  },
  {
   "cell_type": "markdown",
   "metadata": {},
   "source": [
    "Checking for Incoherencies"
   ]
  },
  {
   "cell_type": "code",
   "execution_count": 28,
   "metadata": {
    "ExecuteTime": {
     "end_time": "2024-04-22T15:46:02.988235Z",
     "start_time": "2024-04-22T15:46:02.965241Z"
    }
   },
   "outputs": [
    {
     "data": {
      "text/html": [
       "<div>\n",
       "<style scoped>\n",
       "    .dataframe tbody tr th:only-of-type {\n",
       "        vertical-align: middle;\n",
       "    }\n",
       "\n",
       "    .dataframe tbody tr th {\n",
       "        vertical-align: top;\n",
       "    }\n",
       "\n",
       "    .dataframe thead th {\n",
       "        text-align: right;\n",
       "    }\n",
       "</style>\n",
       "<table border=\"1\" class=\"dataframe\">\n",
       "  <thead>\n",
       "    <tr style=\"text-align: right;\">\n",
       "      <th></th>\n",
       "      <th>Title</th>\n",
       "      <th>Name</th>\n",
       "      <th>Review Date</th>\n",
       "      <th>Airline</th>\n",
       "      <th>Verified</th>\n",
       "      <th>Reviews</th>\n",
       "      <th>Type of Traveller</th>\n",
       "      <th>Month Flown</th>\n",
       "      <th>Route</th>\n",
       "      <th>Class</th>\n",
       "      <th>Seat Comfort</th>\n",
       "      <th>Staff Service</th>\n",
       "      <th>Food &amp; Beverages</th>\n",
       "      <th>Inflight Entertainment</th>\n",
       "      <th>Value For Money</th>\n",
       "      <th>Overall Rating</th>\n",
       "      <th>Recommended</th>\n",
       "    </tr>\n",
       "  </thead>\n",
       "  <tbody>\n",
       "    <tr>\n",
       "      <th>2596</th>\n",
       "      <td>business seating is very comfortable</td>\n",
       "      <td>Susan James</td>\n",
       "      <td>2024-03-06</td>\n",
       "      <td>All Nippon Airways</td>\n",
       "      <td>False</td>\n",
       "      <td>ANA has great service, very clean restrooms ...</td>\n",
       "      <td>Couple Leisure</td>\n",
       "      <td>March 2024</td>\n",
       "      <td>Ho Chi Minh City to Tokyo</td>\n",
       "      <td>Business Class</td>\n",
       "      <td>4</td>\n",
       "      <td>5</td>\n",
       "      <td>4</td>\n",
       "      <td>4</td>\n",
       "      <td>5</td>\n",
       "      <td>10</td>\n",
       "      <td>yes</td>\n",
       "    </tr>\n",
       "    <tr>\n",
       "      <th>4405</th>\n",
       "      <td>don't waste money on Business</td>\n",
       "      <td>S Dunlop</td>\n",
       "      <td>2024-03-04</td>\n",
       "      <td>Turkish Airlines</td>\n",
       "      <td>True</td>\n",
       "      <td>Do not waste money on a Business Class fligh...</td>\n",
       "      <td>Business</td>\n",
       "      <td>February 2024</td>\n",
       "      <td>Manchester to Kathmandu via Istanbul</td>\n",
       "      <td>Business Class</td>\n",
       "      <td>3</td>\n",
       "      <td>3</td>\n",
       "      <td>3</td>\n",
       "      <td>3</td>\n",
       "      <td>1</td>\n",
       "      <td>3</td>\n",
       "      <td>no</td>\n",
       "    </tr>\n",
       "    <tr>\n",
       "      <th>2854</th>\n",
       "      <td>certainly not a premium airline</td>\n",
       "      <td>E Galetski</td>\n",
       "      <td>2024-03-04</td>\n",
       "      <td>Emirates</td>\n",
       "      <td>True</td>\n",
       "      <td>Our BKK-DXB flight was delayed for 18 hours ...</td>\n",
       "      <td>Family Leisure</td>\n",
       "      <td>February 2024</td>\n",
       "      <td>Bangkok to Warsaw via Dubai</td>\n",
       "      <td>Economy Class</td>\n",
       "      <td>3</td>\n",
       "      <td>1</td>\n",
       "      <td>3</td>\n",
       "      <td>4</td>\n",
       "      <td>1</td>\n",
       "      <td>1</td>\n",
       "      <td>no</td>\n",
       "    </tr>\n",
       "    <tr>\n",
       "      <th>2855</th>\n",
       "      <td>Qatar Airways really puts them to shame</td>\n",
       "      <td>E Bayaz</td>\n",
       "      <td>2024-03-04</td>\n",
       "      <td>Emirates</td>\n",
       "      <td>True</td>\n",
       "      <td>Definitely not the standard I would expect f...</td>\n",
       "      <td>Solo Leisure</td>\n",
       "      <td>March 2024</td>\n",
       "      <td>London Stansted to Lahore via Dubai</td>\n",
       "      <td>Business Class</td>\n",
       "      <td>4</td>\n",
       "      <td>3</td>\n",
       "      <td>1</td>\n",
       "      <td>1</td>\n",
       "      <td>2</td>\n",
       "      <td>3</td>\n",
       "      <td>no</td>\n",
       "    </tr>\n",
       "    <tr>\n",
       "      <th>4406</th>\n",
       "      <td>cabin crew they seemed indifferent</td>\n",
       "      <td>S Dunlop</td>\n",
       "      <td>2024-03-04</td>\n",
       "      <td>Turkish Airlines</td>\n",
       "      <td>True</td>\n",
       "      <td>The plane was antiquated, my footrest box un...</td>\n",
       "      <td>Business</td>\n",
       "      <td>January 2024</td>\n",
       "      <td>Bogota to Istanbul</td>\n",
       "      <td>Business Class</td>\n",
       "      <td>4</td>\n",
       "      <td>1</td>\n",
       "      <td>1</td>\n",
       "      <td>1</td>\n",
       "      <td>2</td>\n",
       "      <td>3</td>\n",
       "      <td>no</td>\n",
       "    </tr>\n",
       "    <tr>\n",
       "      <th>...</th>\n",
       "      <td>...</td>\n",
       "      <td>...</td>\n",
       "      <td>...</td>\n",
       "      <td>...</td>\n",
       "      <td>...</td>\n",
       "      <td>...</td>\n",
       "      <td>...</td>\n",
       "      <td>...</td>\n",
       "      <td>...</td>\n",
       "      <td>...</td>\n",
       "      <td>...</td>\n",
       "      <td>...</td>\n",
       "      <td>...</td>\n",
       "      <td>...</td>\n",
       "      <td>...</td>\n",
       "      <td>...</td>\n",
       "      <td>...</td>\n",
       "    </tr>\n",
       "    <tr>\n",
       "      <th>967</th>\n",
       "      <td>a beautiful looking plane</td>\n",
       "      <td>Fiona Teo</td>\n",
       "      <td>2016-03-24</td>\n",
       "      <td>Singapore Airlines</td>\n",
       "      <td>False</td>\n",
       "      <td>Flew economy on Singapore to Kuala Lumpur re...</td>\n",
       "      <td>Business</td>\n",
       "      <td>March 2016</td>\n",
       "      <td>MNL to SIN</td>\n",
       "      <td>Economy Class</td>\n",
       "      <td>2</td>\n",
       "      <td>5</td>\n",
       "      <td>5</td>\n",
       "      <td>4</td>\n",
       "      <td>2</td>\n",
       "      <td>8</td>\n",
       "      <td>yes</td>\n",
       "    </tr>\n",
       "    <tr>\n",
       "      <th>969</th>\n",
       "      <td>crew were very relaxed</td>\n",
       "      <td>S Gooneratne</td>\n",
       "      <td>2016-03-23</td>\n",
       "      <td>Singapore Airlines</td>\n",
       "      <td>False</td>\n",
       "      <td>Dhaka to Melbourne via Singapore, flights op...</td>\n",
       "      <td>Business</td>\n",
       "      <td>March 2016</td>\n",
       "      <td>MEL to DEL via SIN</td>\n",
       "      <td>Economy Class</td>\n",
       "      <td>5</td>\n",
       "      <td>5</td>\n",
       "      <td>3</td>\n",
       "      <td>4</td>\n",
       "      <td>4</td>\n",
       "      <td>9</td>\n",
       "      <td>yes</td>\n",
       "    </tr>\n",
       "    <tr>\n",
       "      <th>6089</th>\n",
       "      <td>probably never fly them again</td>\n",
       "      <td>Mona Farrugia</td>\n",
       "      <td>2016-03-23</td>\n",
       "      <td>Turkish Airlines</td>\n",
       "      <td>False</td>\n",
       "      <td>Malta to Kilimanjaro via Dar es Salaam. We a...</td>\n",
       "      <td>Couple Leisure</td>\n",
       "      <td>March 2016</td>\n",
       "      <td>IAH to KHI</td>\n",
       "      <td>Business Class</td>\n",
       "      <td>4</td>\n",
       "      <td>5</td>\n",
       "      <td>3</td>\n",
       "      <td>5</td>\n",
       "      <td>2</td>\n",
       "      <td>2</td>\n",
       "      <td>no</td>\n",
       "    </tr>\n",
       "    <tr>\n",
       "      <th>970</th>\n",
       "      <td>Food and IFE average</td>\n",
       "      <td>S Gooneratne</td>\n",
       "      <td>2016-03-22</td>\n",
       "      <td>Singapore Airlines</td>\n",
       "      <td>True</td>\n",
       "      <td>Melbourne to Delhi via Singapore. Check in f...</td>\n",
       "      <td>Business</td>\n",
       "      <td>March 2016</td>\n",
       "      <td>SIN to CAN</td>\n",
       "      <td>Economy Class</td>\n",
       "      <td>3</td>\n",
       "      <td>5</td>\n",
       "      <td>4</td>\n",
       "      <td>4</td>\n",
       "      <td>4</td>\n",
       "      <td>6</td>\n",
       "      <td>yes</td>\n",
       "    </tr>\n",
       "    <tr>\n",
       "      <th>971</th>\n",
       "      <td>overall an enjoyable flight</td>\n",
       "      <td>Yeo Wei Sheng</td>\n",
       "      <td>2016-03-22</td>\n",
       "      <td>Singapore Airlines</td>\n",
       "      <td>False</td>\n",
       "      <td>A very pleasant journey on Singapore Airline...</td>\n",
       "      <td>Solo Leisure</td>\n",
       "      <td>December 2015</td>\n",
       "      <td>KUL to SYD via SIN</td>\n",
       "      <td>Economy Class</td>\n",
       "      <td>5</td>\n",
       "      <td>5</td>\n",
       "      <td>5</td>\n",
       "      <td>4</td>\n",
       "      <td>4</td>\n",
       "      <td>7</td>\n",
       "      <td>yes</td>\n",
       "    </tr>\n",
       "  </tbody>\n",
       "</table>\n",
       "<p>8100 rows × 17 columns</p>\n",
       "</div>"
      ],
      "text/plain": [
       "                                        Title           Name Review Date  \\\n",
       "2596    business seating is very comfortable     Susan James  2024-03-06   \n",
       "4405            don't waste money on Business       S Dunlop  2024-03-04   \n",
       "2854          certainly not a premium airline     E Galetski  2024-03-04   \n",
       "2855  Qatar Airways really puts them to shame        E Bayaz  2024-03-04   \n",
       "4406       cabin crew they seemed indifferent       S Dunlop  2024-03-04   \n",
       "...                                       ...            ...         ...   \n",
       "967                 a beautiful looking plane     Fiona Teo   2016-03-24   \n",
       "969                    crew were very relaxed   S Gooneratne  2016-03-23   \n",
       "6089            probably never fly them again  Mona Farrugia  2016-03-23   \n",
       "970                      Food and IFE average   S Gooneratne  2016-03-22   \n",
       "971               overall an enjoyable flight  Yeo Wei Sheng  2016-03-22   \n",
       "\n",
       "                 Airline Verified  \\\n",
       "2596  All Nippon Airways    False   \n",
       "4405    Turkish Airlines     True   \n",
       "2854            Emirates     True   \n",
       "2855            Emirates     True   \n",
       "4406    Turkish Airlines     True   \n",
       "...                  ...      ...   \n",
       "967   Singapore Airlines    False   \n",
       "969   Singapore Airlines    False   \n",
       "6089    Turkish Airlines    False   \n",
       "970   Singapore Airlines     True   \n",
       "971   Singapore Airlines    False   \n",
       "\n",
       "                                                Reviews Type of Traveller  \\\n",
       "2596    ANA has great service, very clean restrooms ...    Couple Leisure   \n",
       "4405    Do not waste money on a Business Class fligh...          Business   \n",
       "2854    Our BKK-DXB flight was delayed for 18 hours ...    Family Leisure   \n",
       "2855    Definitely not the standard I would expect f...      Solo Leisure   \n",
       "4406    The plane was antiquated, my footrest box un...          Business   \n",
       "...                                                 ...               ...   \n",
       "967     Flew economy on Singapore to Kuala Lumpur re...          Business   \n",
       "969     Dhaka to Melbourne via Singapore, flights op...          Business   \n",
       "6089    Malta to Kilimanjaro via Dar es Salaam. We a...    Couple Leisure   \n",
       "970     Melbourne to Delhi via Singapore. Check in f...          Business   \n",
       "971     A very pleasant journey on Singapore Airline...      Solo Leisure   \n",
       "\n",
       "        Month Flown                                 Route           Class  \\\n",
       "2596     March 2024             Ho Chi Minh City to Tokyo  Business Class   \n",
       "4405  February 2024  Manchester to Kathmandu via Istanbul  Business Class   \n",
       "2854  February 2024           Bangkok to Warsaw via Dubai   Economy Class   \n",
       "2855     March 2024   London Stansted to Lahore via Dubai  Business Class   \n",
       "4406   January 2024                    Bogota to Istanbul  Business Class   \n",
       "...             ...                                   ...             ...   \n",
       "967      March 2016                            MNL to SIN   Economy Class   \n",
       "969      March 2016                    MEL to DEL via SIN   Economy Class   \n",
       "6089     March 2016                            IAH to KHI  Business Class   \n",
       "970      March 2016                            SIN to CAN   Economy Class   \n",
       "971   December 2015                    KUL to SYD via SIN   Economy Class   \n",
       "\n",
       "      Seat Comfort  Staff Service  Food & Beverages  Inflight Entertainment  \\\n",
       "2596             4              5                 4                       4   \n",
       "4405             3              3                 3                       3   \n",
       "2854             3              1                 3                       4   \n",
       "2855             4              3                 1                       1   \n",
       "4406             4              1                 1                       1   \n",
       "...            ...            ...               ...                     ...   \n",
       "967              2              5                 5                       4   \n",
       "969              5              5                 3                       4   \n",
       "6089             4              5                 3                       5   \n",
       "970              3              5                 4                       4   \n",
       "971              5              5                 5                       4   \n",
       "\n",
       "      Value For Money  Overall Rating Recommended  \n",
       "2596                5              10         yes  \n",
       "4405                1               3          no  \n",
       "2854                1               1          no  \n",
       "2855                2               3          no  \n",
       "4406                2               3          no  \n",
       "...               ...             ...         ...  \n",
       "967                 2               8         yes  \n",
       "969                 4               9         yes  \n",
       "6089                2               2          no  \n",
       "970                 4               6         yes  \n",
       "971                 4               7         yes  \n",
       "\n",
       "[8100 rows x 17 columns]"
      ]
     },
     "execution_count": 28,
     "metadata": {},
     "output_type": "execute_result"
    }
   ],
   "source": [
    "data.sort_values(by='Review Date', ascending=False)"
   ]
  },
  {
   "cell_type": "markdown",
   "metadata": {},
   "source": [
    "# Preprocessing for Lexicon-based"
   ]
  },
  {
   "cell_type": "code",
   "execution_count": 43,
   "metadata": {
    "ExecuteTime": {
     "end_time": "2024-04-22T15:55:32.449064Z",
     "start_time": "2024-04-22T15:55:32.435303Z"
    }
   },
   "outputs": [
    {
     "name": "stderr",
     "output_type": "stream",
     "text": [
      "[nltk_data] Downloading package stopwords to\n",
      "[nltk_data]     /Users/antoniooliveira/nltk_data...\n",
      "[nltk_data]   Package stopwords is already up-to-date!\n"
     ]
    }
   ],
   "source": []
  },
  {
   "cell_type": "code",
   "execution_count": 45,
   "metadata": {
    "ExecuteTime": {
     "end_time": "2024-04-22T15:56:20.798796Z",
     "start_time": "2024-04-22T15:56:08.579656Z"
    }
   },
   "outputs": [],
   "source": [
    "data['Reviews_1'] = data['Reviews'].apply(lambda text: preprocessor(text,\n",
    "                 lowercase=True, \n",
    "                 leave_punctuation = True, \n",
    "                 remove_stopwords = True,\n",
    "                 stop_words = stop_words,\n",
    "                 correct_spelling = False, \n",
    "                 lemmatization=False, \n",
    "                 porter_stemming=False,\n",
    "                 tokenized_output=False, \n",
    "                 sentence_output=False))"
   ]
  },
  {
   "cell_type": "code",
   "execution_count": 48,
   "metadata": {
    "ExecuteTime": {
     "end_time": "2024-04-22T15:56:39.296059Z",
     "start_time": "2024-04-22T15:56:39.290961Z"
    }
   },
   "outputs": [
    {
     "data": {
      "text/plain": [
       "3544    delhi london via dubai. seating alright. ends ...\n",
       "Name: Reviews_1, dtype: object"
      ]
     },
     "execution_count": 48,
     "metadata": {},
     "output_type": "execute_result"
    }
   ],
   "source": [
    "data['Reviews_1'].sample()"
   ]
  },
  {
   "cell_type": "markdown",
   "metadata": {},
   "source": [
    "## Vader"
   ]
  },
  {
   "cell_type": "code",
   "execution_count": 53,
   "metadata": {
    "ExecuteTime": {
     "end_time": "2024-04-22T16:00:17.211977Z",
     "start_time": "2024-04-22T16:00:17.186773Z"
    }
   },
   "outputs": [],
   "source": [
    "from nltk.sentiment import SentimentIntensityAnalyzer\n",
    "vader = SentimentIntensityAnalyzer()"
   ]
  },
  {
   "cell_type": "code",
   "execution_count": 54,
   "metadata": {
    "ExecuteTime": {
     "end_time": "2024-04-22T16:00:18.558455Z",
     "start_time": "2024-04-22T16:00:18.555054Z"
    }
   },
   "outputs": [],
   "source": [
    "def vader_sa(song, compound = True):\n",
    "\n",
    "    # Get the polarity scores (negative, neutral and positive) for the song\n",
    "    polarity_scores_ = vader.polarity_scores(song)\n",
    "    \n",
    "    # If you want to compound the scores into one final score\n",
    "    if compound:\n",
    "        polarity = polarity_scores_[\"compound\"]\n",
    "\n",
    "    # If you want the three scores\n",
    "    else:\n",
    "        # The three separated scores\n",
    "        polarity = polarity_scores_\n",
    "\n",
    "    return polarity"
   ]
  },
  {
   "cell_type": "code",
   "execution_count": 55,
   "metadata": {
    "ExecuteTime": {
     "end_time": "2024-04-22T16:00:35.262850Z",
     "start_time": "2024-04-22T16:00:19.766067Z"
    }
   },
   "outputs": [],
   "source": [
    "data[\"vader_polarity_compound\"] = data[\"Reviews_1\"].apply(lambda song : vader_sa(str(song)))\n",
    "\n",
    "data[\"vader_polarity_scores\"] = data[\"Reviews_1\"].apply(lambda song : vader_sa(str(song), compound = False))"
   ]
  },
  {
   "cell_type": "code",
   "execution_count": 57,
   "metadata": {
    "ExecuteTime": {
     "end_time": "2024-04-22T16:01:32.664330Z",
     "start_time": "2024-04-22T16:01:32.647773Z"
    }
   },
   "outputs": [
    {
     "data": {
      "text/html": [
       "<div>\n",
       "<style scoped>\n",
       "    .dataframe tbody tr th:only-of-type {\n",
       "        vertical-align: middle;\n",
       "    }\n",
       "\n",
       "    .dataframe tbody tr th {\n",
       "        vertical-align: top;\n",
       "    }\n",
       "\n",
       "    .dataframe thead th {\n",
       "        text-align: right;\n",
       "    }\n",
       "</style>\n",
       "<table border=\"1\" class=\"dataframe\">\n",
       "  <thead>\n",
       "    <tr style=\"text-align: right;\">\n",
       "      <th></th>\n",
       "      <th>Title</th>\n",
       "      <th>Name</th>\n",
       "      <th>Review Date</th>\n",
       "      <th>Airline</th>\n",
       "      <th>Verified</th>\n",
       "      <th>Reviews</th>\n",
       "      <th>Type of Traveller</th>\n",
       "      <th>Month Flown</th>\n",
       "      <th>Route</th>\n",
       "      <th>Class</th>\n",
       "      <th>Seat Comfort</th>\n",
       "      <th>Staff Service</th>\n",
       "      <th>Food &amp; Beverages</th>\n",
       "      <th>Inflight Entertainment</th>\n",
       "      <th>Value For Money</th>\n",
       "      <th>Overall Rating</th>\n",
       "      <th>Recommended</th>\n",
       "      <th>Reviews_1</th>\n",
       "      <th>vader_polarity_compound</th>\n",
       "      <th>vader_polarity_scores</th>\n",
       "    </tr>\n",
       "  </thead>\n",
       "  <tbody>\n",
       "    <tr>\n",
       "      <th>7959</th>\n",
       "      <td>lost my wallet before boarding</td>\n",
       "      <td>L Gan</td>\n",
       "      <td>2019-12-12</td>\n",
       "      <td>Korean Air</td>\n",
       "      <td>True</td>\n",
       "      <td>Seoul to Hong Kong. I lost my wallet right b...</td>\n",
       "      <td>Solo Leisure</td>\n",
       "      <td>December 2019</td>\n",
       "      <td>Seoul to Hong Kong</td>\n",
       "      <td>Economy Class</td>\n",
       "      <td>3</td>\n",
       "      <td>5</td>\n",
       "      <td>4</td>\n",
       "      <td>4</td>\n",
       "      <td>3</td>\n",
       "      <td>5</td>\n",
       "      <td>no</td>\n",
       "      <td>seoul hong kong. lost wallet right boarding ou...</td>\n",
       "      <td>0.5106</td>\n",
       "      <td>{'neg': 0.077, 'neu': 0.807, 'pos': 0.116, 'co...</td>\n",
       "    </tr>\n",
       "    <tr>\n",
       "      <th>7916</th>\n",
       "      <td>Really great experience</td>\n",
       "      <td>S Mayle</td>\n",
       "      <td>2023-12-03</td>\n",
       "      <td>Korean Air</td>\n",
       "      <td>True</td>\n",
       "      <td>Really great experience.  Really good food, ...</td>\n",
       "      <td>Solo Leisure</td>\n",
       "      <td>December 2023</td>\n",
       "      <td>Auckland to Seoul</td>\n",
       "      <td>Economy Class</td>\n",
       "      <td>5</td>\n",
       "      <td>5</td>\n",
       "      <td>4</td>\n",
       "      <td>3</td>\n",
       "      <td>5</td>\n",
       "      <td>9</td>\n",
       "      <td>yes</td>\n",
       "      <td>really great experience. really good food, leg...</td>\n",
       "      <td>0.9632</td>\n",
       "      <td>{'neg': 0.0, 'neu': 0.443, 'pos': 0.557, 'comp...</td>\n",
       "    </tr>\n",
       "    <tr>\n",
       "      <th>4594</th>\n",
       "      <td>best service I have received</td>\n",
       "      <td>John Webber</td>\n",
       "      <td>2023-06-24</td>\n",
       "      <td>Turkish Airlines</td>\n",
       "      <td>True</td>\n",
       "      <td>Just flown Turkish Airlines for the first ti...</td>\n",
       "      <td>Couple Leisure</td>\n",
       "      <td>June 2023</td>\n",
       "      <td>Antalya to Istanbul</td>\n",
       "      <td>Business Class</td>\n",
       "      <td>5</td>\n",
       "      <td>4</td>\n",
       "      <td>2</td>\n",
       "      <td>3</td>\n",
       "      <td>5</td>\n",
       "      <td>10</td>\n",
       "      <td>yes</td>\n",
       "      <td>flown turkish airlines first time business cla...</td>\n",
       "      <td>0.7430</td>\n",
       "      <td>{'neg': 0.0, 'neu': 0.9, 'pos': 0.1, 'compound...</td>\n",
       "    </tr>\n",
       "    <tr>\n",
       "      <th>7273</th>\n",
       "      <td>Check in was very efficient</td>\n",
       "      <td>R Gannell</td>\n",
       "      <td>2018-06-19</td>\n",
       "      <td>Cathay Pacific Airways</td>\n",
       "      <td>True</td>\n",
       "      <td>London to Hong Kong. Check in was very effic...</td>\n",
       "      <td>Couple Leisure</td>\n",
       "      <td>May 2018</td>\n",
       "      <td>London to Hong Kong</td>\n",
       "      <td>Economy Class</td>\n",
       "      <td>4</td>\n",
       "      <td>5</td>\n",
       "      <td>5</td>\n",
       "      <td>4</td>\n",
       "      <td>5</td>\n",
       "      <td>10</td>\n",
       "      <td>yes</td>\n",
       "      <td>london hong kong. check efficient heathrow, st...</td>\n",
       "      <td>0.9968</td>\n",
       "      <td>{'neg': 0.008, 'neu': 0.704, 'pos': 0.289, 'co...</td>\n",
       "    </tr>\n",
       "    <tr>\n",
       "      <th>6420</th>\n",
       "      <td>All four flights were good</td>\n",
       "      <td>S Tegtmeier</td>\n",
       "      <td>2019-12-28</td>\n",
       "      <td>Air France</td>\n",
       "      <td>True</td>\n",
       "      <td>Munich to Lyon and Lyon to Frankfurt via Par...</td>\n",
       "      <td>Solo Leisure</td>\n",
       "      <td>October 2019</td>\n",
       "      <td>Paris to Nairobi</td>\n",
       "      <td>Economy Class</td>\n",
       "      <td>1</td>\n",
       "      <td>2</td>\n",
       "      <td>2</td>\n",
       "      <td>4</td>\n",
       "      <td>4</td>\n",
       "      <td>8</td>\n",
       "      <td>yes</td>\n",
       "      <td>munich lyon lyon frankfurt via paris cdg. book...</td>\n",
       "      <td>0.9728</td>\n",
       "      <td>{'neg': 0.051, 'neu': 0.655, 'pos': 0.294, 'co...</td>\n",
       "    </tr>\n",
       "  </tbody>\n",
       "</table>\n",
       "</div>"
      ],
      "text/plain": [
       "                               Title         Name Review Date  \\\n",
       "7959  lost my wallet before boarding        L Gan  2019-12-12   \n",
       "7916         Really great experience      S Mayle  2023-12-03   \n",
       "4594    best service I have received  John Webber  2023-06-24   \n",
       "7273     Check in was very efficient    R Gannell  2018-06-19   \n",
       "6420      All four flights were good  S Tegtmeier  2019-12-28   \n",
       "\n",
       "                     Airline Verified  \\\n",
       "7959              Korean Air     True   \n",
       "7916              Korean Air     True   \n",
       "4594        Turkish Airlines     True   \n",
       "7273  Cathay Pacific Airways     True   \n",
       "6420              Air France     True   \n",
       "\n",
       "                                                Reviews Type of Traveller  \\\n",
       "7959    Seoul to Hong Kong. I lost my wallet right b...      Solo Leisure   \n",
       "7916    Really great experience.  Really good food, ...      Solo Leisure   \n",
       "4594    Just flown Turkish Airlines for the first ti...    Couple Leisure   \n",
       "7273    London to Hong Kong. Check in was very effic...    Couple Leisure   \n",
       "6420    Munich to Lyon and Lyon to Frankfurt via Par...      Solo Leisure   \n",
       "\n",
       "        Month Flown                Route           Class  Seat Comfort  \\\n",
       "7959  December 2019   Seoul to Hong Kong   Economy Class             3   \n",
       "7916  December 2023    Auckland to Seoul   Economy Class             5   \n",
       "4594      June 2023  Antalya to Istanbul  Business Class             5   \n",
       "7273       May 2018  London to Hong Kong   Economy Class             4   \n",
       "6420   October 2019     Paris to Nairobi   Economy Class             1   \n",
       "\n",
       "      Staff Service  Food & Beverages  Inflight Entertainment  \\\n",
       "7959              5                 4                       4   \n",
       "7916              5                 4                       3   \n",
       "4594              4                 2                       3   \n",
       "7273              5                 5                       4   \n",
       "6420              2                 2                       4   \n",
       "\n",
       "      Value For Money  Overall Rating Recommended  \\\n",
       "7959                3               5          no   \n",
       "7916                5               9         yes   \n",
       "4594                5              10         yes   \n",
       "7273                5              10         yes   \n",
       "6420                4               8         yes   \n",
       "\n",
       "                                              Reviews_1  \\\n",
       "7959  seoul hong kong. lost wallet right boarding ou...   \n",
       "7916  really great experience. really good food, leg...   \n",
       "4594  flown turkish airlines first time business cla...   \n",
       "7273  london hong kong. check efficient heathrow, st...   \n",
       "6420  munich lyon lyon frankfurt via paris cdg. book...   \n",
       "\n",
       "      vader_polarity_compound  \\\n",
       "7959                   0.5106   \n",
       "7916                   0.9632   \n",
       "4594                   0.7430   \n",
       "7273                   0.9968   \n",
       "6420                   0.9728   \n",
       "\n",
       "                                  vader_polarity_scores  \n",
       "7959  {'neg': 0.077, 'neu': 0.807, 'pos': 0.116, 'co...  \n",
       "7916  {'neg': 0.0, 'neu': 0.443, 'pos': 0.557, 'comp...  \n",
       "4594  {'neg': 0.0, 'neu': 0.9, 'pos': 0.1, 'compound...  \n",
       "7273  {'neg': 0.008, 'neu': 0.704, 'pos': 0.289, 'co...  \n",
       "6420  {'neg': 0.051, 'neu': 0.655, 'pos': 0.294, 'co...  "
      ]
     },
     "execution_count": 57,
     "metadata": {},
     "output_type": "execute_result"
    }
   ],
   "source": [
    "data.sample(5)"
   ]
  },
  {
   "cell_type": "code",
   "execution_count": 59,
   "metadata": {
    "ExecuteTime": {
     "end_time": "2024-04-22T16:01:55.415480Z",
     "start_time": "2024-04-22T16:01:55.378037Z"
    }
   },
   "outputs": [
    {
     "data": {
      "text/html": [
       "<div>\n",
       "<style scoped>\n",
       "    .dataframe tbody tr th:only-of-type {\n",
       "        vertical-align: middle;\n",
       "    }\n",
       "\n",
       "    .dataframe tbody tr th {\n",
       "        vertical-align: top;\n",
       "    }\n",
       "\n",
       "    .dataframe thead th {\n",
       "        text-align: right;\n",
       "    }\n",
       "</style>\n",
       "<table border=\"1\" class=\"dataframe\">\n",
       "  <thead>\n",
       "    <tr style=\"text-align: right;\">\n",
       "      <th></th>\n",
       "      <th>count</th>\n",
       "      <th>mean</th>\n",
       "      <th>std</th>\n",
       "      <th>min</th>\n",
       "      <th>25%</th>\n",
       "      <th>50%</th>\n",
       "      <th>75%</th>\n",
       "      <th>max</th>\n",
       "    </tr>\n",
       "    <tr>\n",
       "      <th>Overall Rating</th>\n",
       "      <th></th>\n",
       "      <th></th>\n",
       "      <th></th>\n",
       "      <th></th>\n",
       "      <th></th>\n",
       "      <th></th>\n",
       "      <th></th>\n",
       "      <th></th>\n",
       "    </tr>\n",
       "  </thead>\n",
       "  <tbody>\n",
       "    <tr>\n",
       "      <th>1</th>\n",
       "      <td>1808.0</td>\n",
       "      <td>-0.298590</td>\n",
       "      <td>0.649687</td>\n",
       "      <td>-0.9915</td>\n",
       "      <td>-0.855075</td>\n",
       "      <td>-0.58820</td>\n",
       "      <td>0.252125</td>\n",
       "      <td>0.9954</td>\n",
       "    </tr>\n",
       "    <tr>\n",
       "      <th>2</th>\n",
       "      <td>692.0</td>\n",
       "      <td>-0.144514</td>\n",
       "      <td>0.686844</td>\n",
       "      <td>-0.9901</td>\n",
       "      <td>-0.790300</td>\n",
       "      <td>-0.35280</td>\n",
       "      <td>0.584250</td>\n",
       "      <td>0.9932</td>\n",
       "    </tr>\n",
       "    <tr>\n",
       "      <th>3</th>\n",
       "      <td>522.0</td>\n",
       "      <td>0.029044</td>\n",
       "      <td>0.714229</td>\n",
       "      <td>-0.9887</td>\n",
       "      <td>-0.707650</td>\n",
       "      <td>0.02580</td>\n",
       "      <td>0.771700</td>\n",
       "      <td>0.9936</td>\n",
       "    </tr>\n",
       "    <tr>\n",
       "      <th>4</th>\n",
       "      <td>381.0</td>\n",
       "      <td>0.124858</td>\n",
       "      <td>0.688605</td>\n",
       "      <td>-0.9890</td>\n",
       "      <td>-0.597500</td>\n",
       "      <td>0.24840</td>\n",
       "      <td>0.800200</td>\n",
       "      <td>0.9943</td>\n",
       "    </tr>\n",
       "    <tr>\n",
       "      <th>5</th>\n",
       "      <td>436.0</td>\n",
       "      <td>0.308215</td>\n",
       "      <td>0.652665</td>\n",
       "      <td>-0.9771</td>\n",
       "      <td>-0.296000</td>\n",
       "      <td>0.55290</td>\n",
       "      <td>0.898450</td>\n",
       "      <td>0.9954</td>\n",
       "    </tr>\n",
       "    <tr>\n",
       "      <th>6</th>\n",
       "      <td>346.0</td>\n",
       "      <td>0.514557</td>\n",
       "      <td>0.552027</td>\n",
       "      <td>-0.9729</td>\n",
       "      <td>0.195700</td>\n",
       "      <td>0.77800</td>\n",
       "      <td>0.930075</td>\n",
       "      <td>0.9937</td>\n",
       "    </tr>\n",
       "    <tr>\n",
       "      <th>7</th>\n",
       "      <td>509.0</td>\n",
       "      <td>0.733962</td>\n",
       "      <td>0.417034</td>\n",
       "      <td>-0.9643</td>\n",
       "      <td>0.735100</td>\n",
       "      <td>0.91690</td>\n",
       "      <td>0.964700</td>\n",
       "      <td>0.9966</td>\n",
       "    </tr>\n",
       "    <tr>\n",
       "      <th>8</th>\n",
       "      <td>742.0</td>\n",
       "      <td>0.845166</td>\n",
       "      <td>0.279529</td>\n",
       "      <td>-0.8852</td>\n",
       "      <td>0.862500</td>\n",
       "      <td>0.94675</td>\n",
       "      <td>0.975575</td>\n",
       "      <td>0.9978</td>\n",
       "    </tr>\n",
       "    <tr>\n",
       "      <th>9</th>\n",
       "      <td>1054.0</td>\n",
       "      <td>0.869843</td>\n",
       "      <td>0.262884</td>\n",
       "      <td>-0.9308</td>\n",
       "      <td>0.895700</td>\n",
       "      <td>0.95415</td>\n",
       "      <td>0.977600</td>\n",
       "      <td>0.9983</td>\n",
       "    </tr>\n",
       "    <tr>\n",
       "      <th>10</th>\n",
       "      <td>1610.0</td>\n",
       "      <td>0.908087</td>\n",
       "      <td>0.192140</td>\n",
       "      <td>-0.8689</td>\n",
       "      <td>0.918600</td>\n",
       "      <td>0.96180</td>\n",
       "      <td>0.979975</td>\n",
       "      <td>0.9993</td>\n",
       "    </tr>\n",
       "  </tbody>\n",
       "</table>\n",
       "</div>"
      ],
      "text/plain": [
       "                 count      mean       std     min       25%      50%  \\\n",
       "Overall Rating                                                          \n",
       "1               1808.0 -0.298590  0.649687 -0.9915 -0.855075 -0.58820   \n",
       "2                692.0 -0.144514  0.686844 -0.9901 -0.790300 -0.35280   \n",
       "3                522.0  0.029044  0.714229 -0.9887 -0.707650  0.02580   \n",
       "4                381.0  0.124858  0.688605 -0.9890 -0.597500  0.24840   \n",
       "5                436.0  0.308215  0.652665 -0.9771 -0.296000  0.55290   \n",
       "6                346.0  0.514557  0.552027 -0.9729  0.195700  0.77800   \n",
       "7                509.0  0.733962  0.417034 -0.9643  0.735100  0.91690   \n",
       "8                742.0  0.845166  0.279529 -0.8852  0.862500  0.94675   \n",
       "9               1054.0  0.869843  0.262884 -0.9308  0.895700  0.95415   \n",
       "10              1610.0  0.908087  0.192140 -0.8689  0.918600  0.96180   \n",
       "\n",
       "                     75%     max  \n",
       "Overall Rating                    \n",
       "1               0.252125  0.9954  \n",
       "2               0.584250  0.9932  \n",
       "3               0.771700  0.9936  \n",
       "4               0.800200  0.9943  \n",
       "5               0.898450  0.9954  \n",
       "6               0.930075  0.9937  \n",
       "7               0.964700  0.9966  \n",
       "8               0.975575  0.9978  \n",
       "9               0.977600  0.9983  \n",
       "10              0.979975  0.9993  "
      ]
     },
     "execution_count": 59,
     "metadata": {},
     "output_type": "execute_result"
    }
   ],
   "source": [
    "data.groupby('Overall Rating')['vader_polarity_compound'].describe()"
   ]
  },
  {
   "cell_type": "code",
   "execution_count": 66,
   "metadata": {
    "ExecuteTime": {
     "end_time": "2024-04-22T16:04:53.109819Z",
     "start_time": "2024-04-22T16:04:53.105811Z"
    }
   },
   "outputs": [],
   "source": [
    "# Histogram\n",
    "def histogram(data):\n",
    "    plt.hist(data, bins=22, color='#FF914D', ec='#F16007', alpha=0.7, label='Data Points')  # Adjust the number of bins\n",
    "    plt.title('Histogram')\n",
    "    plt.xlabel('Values')\n",
    "    plt.ylabel('Frequency')\n",
    "    plt.legend()\n",
    "\n",
    "    # Set x-axis limits to include a larger range\n",
    "    plt.xlim(min(data), max(data)) \n",
    "\n",
    "    plt.show()"
   ]
  },
  {
   "cell_type": "code",
   "execution_count": 77,
   "metadata": {
    "ExecuteTime": {
     "end_time": "2024-04-22T16:09:03.046500Z",
     "start_time": "2024-04-22T16:09:00.202950Z"
    }
   },
   "outputs": [
    {
     "name": "stdout",
     "output_type": "stream",
     "text": [
      "--------------------------------------------------------------------------------\n",
      "                               Overall Rating: 1\n"
     ]
    },
    {
     "data": {
      "image/png": "[encoded data removed]",
      "text/plain": [
       "<Figure size 640x480 with 1 Axes>"
      ]
     },
     "metadata": {},
     "output_type": "display_data"
    },
    {
     "name": "stdout",
     "output_type": "stream",
     "text": [
      "\n",
      "--------------------------------------------------------------------------------\n",
      "                               Overall Rating: 2\n"
     ]
    },
    {
     "data": {
      "image/png": "[encoded data removed]",
      "text/plain": [
       "<Figure size 640x480 with 1 Axes>"
      ]
     },
     "metadata": {},
     "output_type": "display_data"
    },
    {
     "name": "stdout",
     "output_type": "stream",
     "text": [
      "\n",
      "--------------------------------------------------------------------------------\n",
      "                               Overall Rating: 3\n"
     ]
    },
    {
     "data": {
      "image/png": "[encoded data removed]",
      "text/plain": [
       "<Figure size 640x480 with 1 Axes>"
      ]
     },
     "metadata": {},
     "output_type": "display_data"
    },
    {
     "name": "stdout",
     "output_type": "stream",
     "text": [
      "\n",
      "--------------------------------------------------------------------------------\n",
      "                               Overall Rating: 4\n"
     ]
    },
    {
     "data": {
      "image/png": "[encoded data removed]",
      "text/plain": [
       "<Figure size 640x480 with 1 Axes>"
      ]
     },
     "metadata": {},
     "output_type": "display_data"
    },
    {
     "name": "stdout",
     "output_type": "stream",
     "text": [
      "\n",
      "--------------------------------------------------------------------------------\n",
      "                               Overall Rating: 5\n"
     ]
    },
    {
     "data": {
      "image/png": "[encoded data removed]",
      "text/plain": [
       "<Figure size 640x480 with 1 Axes>"
      ]
     },
     "metadata": {},
     "output_type": "display_data"
    },
    {
     "name": "stdout",
     "output_type": "stream",
     "text": [
      "\n",
      "--------------------------------------------------------------------------------\n",
      "                               Overall Rating: 6\n"
     ]
    },
    {
     "data": {
      "image/png": "[encoded data removed]",
      "text/plain": [
       "<Figure size 640x480 with 1 Axes>"
      ]
     },
     "metadata": {},
     "output_type": "display_data"
    },
    {
     "name": "stdout",
     "output_type": "stream",
     "text": [
      "\n",
      "--------------------------------------------------------------------------------\n",
      "                               Overall Rating: 7\n"
     ]
    },
    {
     "data": {
      "image/png": "[encoded data removed]",
      "text/plain": [
       "<Figure size 640x480 with 1 Axes>"
      ]
     },
     "metadata": {},
     "output_type": "display_data"
    },
    {
     "name": "stdout",
     "output_type": "stream",
     "text": [
      "\n",
      "--------------------------------------------------------------------------------\n",
      "                               Overall Rating: 8\n"
     ]
    },
    {
     "data": {
      "image/png": "[encoded data removed]",
      "text/plain": [
       "<Figure size 640x480 with 1 Axes>"
      ]
     },
     "metadata": {},
     "output_type": "display_data"
    },
    {
     "name": "stdout",
     "output_type": "stream",
     "text": [
      "\n",
      "--------------------------------------------------------------------------------\n",
      "                               Overall Rating: 9\n"
     ]
    },
    {
     "data": {
      "image/png": "[encoded data removed]",
      "text/plain": [
       "<Figure size 640x480 with 1 Axes>"
      ]
     },
     "metadata": {},
     "output_type": "display_data"
    },
    {
     "name": "stdout",
     "output_type": "stream",
     "text": [
      "\n",
      "--------------------------------------------------------------------------------\n",
      "                               Overall Rating: 10\n"
     ]
    },
    {
     "data": {
      "image/png": "[encoded data removed]",
      "text/plain": [
       "<Figure size 640x480 with 1 Axes>"
      ]
     },
     "metadata": {},
     "output_type": "display_data"
    },
    {
     "name": "stdout",
     "output_type": "stream",
     "text": [
      "\n"
     ]
    }
   ],
   "source": [
    "# Get unique values of 'Overall Rating' column and sort them in ascending order\n",
    "unique_tags = sorted(data['Overall Rating'].unique())\n",
    "\n",
    "# Loop through sorted unique tags\n",
    "for tag in unique_tags:\n",
    "    print('--' * 40)\n",
    "    print(' ' * 30, f'Overall Rating: {tag}')\n",
    "    histogram(data[data['Overall Rating'] == tag]['vader_polarity_compound'])\n",
    "    print('')\n"
   ]
  }
 ],
 "metadata": {
  "kernelspec": {
   "display_name": "Python 3 (ipykernel)",
   "language": "python",
   "name": "python3"
  },
  "language_info": {
   "codemirror_mode": {
    "name": "ipython",
    "version": 3
   },
   "file_extension": ".py",
   "mimetype": "text/x-python",
   "name": "python",
   "nbconvert_exporter": "python",
   "pygments_lexer": "ipython3",
   "version": "3.11.7"
  },
  "toc": {
   "base_numbering": 1,
   "nav_menu": {},
   "number_sections": true,
   "sideBar": true,
   "skip_h1_title": true,
   "title_cell": "Table of Contents",
   "title_sidebar": "Contents",
   "toc_cell": true,
   "toc_position": {},
   "toc_section_display": true,
   "toc_window_display": false
  }
 },
 "nbformat": 4,
 "nbformat_minor": 2
}
